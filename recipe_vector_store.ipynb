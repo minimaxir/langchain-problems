{
 "cells": [
  {
   "cell_type": "code",
   "execution_count": 1,
   "metadata": {},
   "outputs": [
    {
     "name": "stderr",
     "output_type": "stream",
     "text": [
      "2023-07-12 17:16:00.236043: I tensorflow/core/platform/cpu_feature_guard.cc:193] This TensorFlow binary is optimized with oneAPI Deep Neural Network Library (oneDNN) to use the following CPU instructions in performance-critical operations:  AVX2 FMA\n",
      "To enable them in other operations, rebuild TensorFlow with the appropriate compiler flags.\n"
     ]
    }
   ],
   "source": [
    "import datasets\n",
    "from sentence_transformers import SentenceTransformer\n",
    "from random import seed, sample\n",
    "from tqdm import tqdm\n",
    "import faiss\n",
    "import json"
   ]
  },
  {
   "cell_type": "code",
   "execution_count": 2,
   "metadata": {},
   "outputs": [],
   "source": [
    "model = SentenceTransformer('all-MiniLM-L6-v2')"
   ]
  },
  {
   "cell_type": "code",
   "execution_count": 3,
   "metadata": {},
   "outputs": [
    {
     "name": "stderr",
     "output_type": "stream",
     "text": [
      "Found cached dataset csv (/Users/maxwoolf/.cache/huggingface/datasets/csv/default-52b24f0143b2cc1d/0.0.0)\n"
     ]
    },
    {
     "data": {
      "text/plain": [
       "{'Unnamed: 0': 0,\n",
       " 'title': 'No-Bake Nut Cookies',\n",
       " 'ingredients': '[\"1 c. firmly packed brown sugar\", \"1/2 c. evaporated milk\", \"1/2 tsp. vanilla\", \"1/2 c. broken nuts (pecans)\", \"2 Tbsp. butter or margarine\", \"3 1/2 c. bite size shredded rice biscuits\"]',\n",
       " 'directions': '[\"In a heavy 2-quart saucepan, mix brown sugar, nuts, evaporated milk and butter or margarine.\", \"Stir over medium heat until mixture bubbles all over top.\", \"Boil and stir 5 minutes more. Take off heat.\", \"Stir in vanilla and cereal; mix well.\", \"Using 2 teaspoons, drop and shape into 30 clusters on wax paper.\", \"Let stand until firm, about 30 minutes.\"]',\n",
       " 'link': 'www.cookbooks.com/Recipe-Details.aspx?id=44874',\n",
       " 'source': 'Gathered',\n",
       " 'NER': '[\"brown sugar\", \"milk\", \"vanilla\", \"nuts\", \"butter\", \"bite size shredded rice biscuits\"]'}"
      ]
     },
     "execution_count": 3,
     "metadata": {},
     "output_type": "execute_result"
    }
   ],
   "source": [
    "file_path = \"/Volumes/Extreme SSD/data/recipe_nlg/full_dataset.csv\"\n",
    "dataset = datasets.DatasetDict.from_csv(file_path)\n",
    "dataset[0]"
   ]
  },
  {
   "cell_type": "code",
   "execution_count": 4,
   "metadata": {},
   "outputs": [
    {
     "name": "stdout",
     "output_type": "stream",
     "text": [
      "Name: No-Bake Nut Cookies\n",
      "Keywords: brown sugar, milk, vanilla, nuts, butter, bite size shredded rice biscuits\n"
     ]
    }
   ],
   "source": [
    "def format_recipe(row):\n",
    "    return f\"Name: {row['title']}\\nKeywords: {', '.join(json.loads(row['NER']))}\"\n",
    "\n",
    "print(format_recipe(dataset[0]))"
   ]
  },
  {
   "cell_type": "code",
   "execution_count": 5,
   "metadata": {},
   "outputs": [
    {
     "data": {
      "text/plain": [
       "{'id': Value(dtype='int32', id=None),\n",
       " 'name': Value(dtype='string', id=None),\n",
       " 'embeddings': Sequence(feature=Value(dtype='float32', id=None), length=384, id=None)}"
      ]
     },
     "execution_count": 5,
     "metadata": {},
     "output_type": "execute_result"
    }
   ],
   "source": [
    "features = datasets.Features(\n",
    "    {\n",
    "        \"id\": datasets.Value(dtype=\"int32\"),\n",
    "        \"name\": datasets.Value(dtype=\"string\"),\n",
    "        \"embeddings\": datasets.Sequence(\n",
    "            feature=datasets.Value(dtype=\"float32\"), length=384\n",
    "        ),\n",
    "    }\n",
    ")\n",
    "\n",
    "features"
   ]
  },
  {
   "cell_type": "code",
   "execution_count": 6,
   "metadata": {},
   "outputs": [
    {
     "name": "stderr",
     "output_type": "stream",
     "text": [
      "100%|██████████| 1000/1000 [00:08<00:00, 120.79it/s]\n"
     ]
    }
   ],
   "source": [
    "num_samples = 1000\n",
    "\n",
    "# select the same random recipes, given the same sample size\n",
    "seed(42)\n",
    "rand_idx = sample(range(0, dataset.num_rows), num_samples)\n",
    "\n",
    "processed_samples = []\n",
    "for idx in tqdm(rand_idx):\n",
    "    row = dataset[idx]\n",
    "    recipe_formatted = format_recipe(row)\n",
    "    embedding = model.encode(recipe_formatted)  # numpy array\n",
    "    processed_samples.append(\n",
    "        {\"id\": row[\"Unnamed: 0\"], \"name\": row[\"title\"], \"embeddings\": embedding}\n",
    "    )"
   ]
  },
  {
   "cell_type": "code",
   "execution_count": 7,
   "metadata": {},
   "outputs": [
    {
     "data": {
      "text/plain": [
       "Dataset({\n",
       "    features: ['id', 'name', 'embeddings'],\n",
       "    num_rows: 1000\n",
       "})"
      ]
     },
     "execution_count": 7,
     "metadata": {},
     "output_type": "execute_result"
    }
   ],
   "source": [
    "recipe_dataset = datasets.Dataset.from_list(processed_samples, features=features)\n",
    "recipe_dataset"
   ]
  },
  {
   "cell_type": "code",
   "execution_count": 8,
   "metadata": {},
   "outputs": [
    {
     "name": "stderr",
     "output_type": "stream",
     "text": [
      "Creating parquet from Arrow format: 100%|██████████| 1/1 [00:00<00:00, 11.20ba/s]\n"
     ]
    },
    {
     "data": {
      "text/plain": [
       "1568027"
      ]
     },
     "execution_count": 8,
     "metadata": {},
     "output_type": "execute_result"
    }
   ],
   "source": [
    "recipe_dataset.to_parquet(\"recipe_embeddings.parquet\", compression=\"gzip\")"
   ]
  },
  {
   "cell_type": "markdown",
   "metadata": {},
   "source": [
    "## Test Out The Vector Similarity"
   ]
  },
  {
   "cell_type": "code",
   "execution_count": 9,
   "metadata": {},
   "outputs": [
    {
     "name": "stderr",
     "output_type": "stream",
     "text": [
      "100%|██████████| 1/1 [00:00<00:00, 347.24it/s]\n"
     ]
    },
    {
     "data": {
      "text/plain": [
       "Dataset({\n",
       "    features: ['id', 'name', 'embeddings'],\n",
       "    num_rows: 1000\n",
       "})"
      ]
     },
     "execution_count": 9,
     "metadata": {},
     "output_type": "execute_result"
    }
   ],
   "source": [
    "recipe_dataset.add_faiss_index(column='embeddings')"
   ]
  },
  {
   "cell_type": "code",
   "execution_count": 10,
   "metadata": {},
   "outputs": [],
   "source": [
    "def get_similar_recipes(query, k=3):\n",
    "    query_embedding = model.encode(query)\n",
    "    scores, recipes = recipe_dataset.get_nearest_examples('embeddings', query_embedding, k=k)\n",
    "    recipes.pop(\"embeddings\")\n",
    "    return recipes"
   ]
  },
  {
   "cell_type": "code",
   "execution_count": 11,
   "metadata": {},
   "outputs": [
    {
     "data": {
      "text/plain": [
       "{'id': [1980633, 1950301, 836179],\n",
       " 'name': ['Easy in the Microwave Curry Doria',\n",
       "  'Easy Corn Casserole',\n",
       "  'Easy  Chicken Casserole']}"
      ]
     },
     "execution_count": 11,
     "metadata": {},
     "output_type": "execute_result"
    }
   ],
   "source": [
    "get_similar_recipes(\"What's an easy-to-make dish?\")"
   ]
  },
  {
   "cell_type": "code",
   "execution_count": 12,
   "metadata": {},
   "outputs": [
    {
     "data": {
      "text/plain": [
       "{'id': [99255, 502840, 469207],\n",
       " 'name': [\"Grandma'S Chicken Soup\",\n",
       "  'Chicken Breast Dressing',\n",
       "  'Sunshine Carrots']}"
      ]
     },
     "execution_count": 12,
     "metadata": {},
     "output_type": "execute_result"
    }
   ],
   "source": [
    "get_similar_recipes(\"What can I make with chicken and carrots?\")"
   ]
  },
  {
   "cell_type": "code",
   "execution_count": 13,
   "metadata": {},
   "outputs": [
    {
     "data": {
      "text/plain": [
       "{'id': [167188, 1488243, 299514],\n",
       " 'name': ['Creamy Strawberry Pie',\n",
       "  'Summer Strawberry Pie Recipe',\n",
       "  'Pudding Cake']}"
      ]
     },
     "execution_count": 13,
     "metadata": {},
     "output_type": "execute_result"
    }
   ],
   "source": [
    "get_similar_recipes(\"yummy dessert\")"
   ]
  },
  {
   "cell_type": "code",
   "execution_count": null,
   "metadata": {},
   "outputs": [],
   "source": []
  }
 ],
 "metadata": {
  "kernelspec": {
   "display_name": "Python 3",
   "language": "python",
   "name": "python3"
  },
  "language_info": {
   "codemirror_mode": {
    "name": "ipython",
    "version": 3
   },
   "file_extension": ".py",
   "mimetype": "text/x-python",
   "name": "python",
   "nbconvert_exporter": "python",
   "pygments_lexer": "ipython3",
   "version": "3.9.12"
  },
  "orig_nbformat": 4
 },
 "nbformat": 4,
 "nbformat_minor": 2
}
